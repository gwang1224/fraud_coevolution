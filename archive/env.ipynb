{
 "cells": [
  {
   "cell_type": "code",
   "execution_count": 2,
   "id": "75123055",
   "metadata": {},
   "outputs": [],
   "source": [
    "import networkx as nx"
   ]
  },
  {
   "cell_type": "markdown",
   "id": "88a9ae46",
   "metadata": {
    "vscode": {
     "languageId": "sql"
    }
   },
   "source": [
    "G = (V, E, A)\n",
    "\n",
    "V: Represents nodes (typed objects such as victim, fraudsters, bank, accounts)\n",
    "\n",
    "E: Directed edges (relationships between different nodes)\n",
    "\n",
    "A: Actions (events that mutate environment)\n",
    "\n",
    "- Action: Event in preparation for fraud, non financial\n",
    "    \n",
    "- Transactions: financial transaction between two accounts\n"
   ]
  },
  {
   "cell_type": "code",
   "execution_count": 3,
   "id": "410ef5eb",
   "metadata": {},
   "outputs": [],
   "source": [
    "#Set attribues for each node\n",
    "NODE_TEMPLATES = {\n",
    "    \"individual\": {\n",
    "        \"role\": None,\n",
    "    },\n",
    "    \"fraudster\": {\n",
    "        \"role\": None,\n",
    "        \"status\": \"active\",\n",
    "        \"description\": None,\n",
    "    },\n",
    "    \"bank\": {\n",
    "    },\n",
    "    \"account\": {\n",
    "        \"owner\": None,\n",
    "        \"bank\": None,\n",
    "        \"balance\": 0.0,\n",
    "        \"status\": \"active\",  # could be 'active', 'flagged', 'frozen', etc.\n",
    "        \"compromised\": False\n",
    "    }\n",
    "}"
   ]
  },
  {
   "cell_type": "code",
   "execution_count": 4,
   "id": "0104166e",
   "metadata": {},
   "outputs": [],
   "source": [
    "def add_node_with_attribute(G, node_id, node_type, custom_attrs=None):\n",
    "    try:\n",
    "        attr = NODE_TEMPLATES.get(node_type).copy()\n",
    "    except AttributeError:\n",
    "        raise ValueError(f\"Unknown node type: '{node_type}'\")\n",
    "\n",
    "    # if invalid attribute is given\n",
    "    invalid_attr = [i for i in custom_attrs if i not in attr]\n",
    "    if invalid_attr:\n",
    "        raise ValueError(f\"Invalid keys: {invalid_attr}\")\n",
    "    \n",
    "    if custom_attrs:\n",
    "        attr.update(custom_attrs)\n",
    "\n",
    "    G.add_node(node_id, **attr)\n",
    "    print(f\"Successfully added node {node_id} as a {node_type} node.\")\n",
    "\n"
   ]
  },
  {
   "cell_type": "code",
   "execution_count": 10,
   "id": "6e74b4b4",
   "metadata": {},
   "outputs": [
    {
     "name": "stdout",
     "output_type": "stream",
     "text": [
      "Successfully added node Olivia as a individual node.\n",
      "Successfully added node Betty as a individual node.\n",
      "Successfully added node ScamGov as a fraudster node.\n",
      "Successfully added node ScamCo as a fraudster node.\n",
      "Successfully added node BankOfAmerica as a bank node.\n",
      "Successfully added node Chase as a bank node.\n",
      "Successfully added node FirstFinancial as a bank node.\n",
      "Successfully added node acc_olivia as a account node.\n",
      "Successfully added node acc_betty as a account node.\n",
      "Successfully added node acc_scamgov as a account node.\n"
     ]
    }
   ],
   "source": [
    "G = nx.DiGraph()\n",
    "\n",
    "# Add victim\n",
    "add_node_with_attribute(G, \"Olivia\", \"individual\", {\"role\": \"victim\"})\n",
    "add_node_with_attribute(G, \"Betty\", \"individual\", {\"role\": \"victim\"})\n",
    "\n",
    "\n",
    "\n",
    "# Fraduster co\n",
    "add_node_with_attribute(G, \"ScamGov\", \"fraudster\", {\"role\": \"fraudco\", \"status\": \"active\", \"description\": \"Impersonates gov for SID\"})\n",
    "add_node_with_attribute(G, \"ScamCo\", \"fraudster\", {\"role\": \"fraudco\", \"status\": \"active\", \"description\": \"Impersonates gov for SID\"})\n",
    "\n",
    "# Bank\n",
    "add_node_with_attribute(G, \"BankOfAmerica\", \"bank\",{})\n",
    "add_node_with_attribute(G, \"Chase\", \"bank\",{})\n",
    "add_node_with_attribute(G, \"FirstFinancial\", \"bank\",{})\n",
    "\n",
    "# Olivia's account\n",
    "add_node_with_attribute(G, \"acc_olivia\", \"account\", {\"owner\": \"Olivia\",\"bank\": \"BankZ\",\"balance\": 60000.00})\n",
    "add_node_with_attribute(G, \"acc_betty\", \"account\", {\"owner\": \"Betty\",\"bank\": \"BankZ\",\"balance\": 4000.00})\n",
    "add_node_with_attribute(G, \"acc_scamgov\", \"account\", {\"owner\": \"ScamGov\",\"bank\": \"BankZ\",\"balance\": 0.00})"
   ]
  },
  {
   "cell_type": "code",
   "execution_count": 11,
   "id": "a185f726",
   "metadata": {},
   "outputs": [],
   "source": [
    "G.add_edge(\"Olivia\", \"Olivia_acc\", rel=\"owns\")\n",
    "G.add_edge(\"Betty\", \"acc_betty\", rel=\"owns\")\n",
    "G.add_edge(\"ScamGov\", \"acc_scamgov\", rel=\"owns\")"
   ]
  },
  {
   "cell_type": "code",
   "execution_count": 12,
   "id": "bced8e92",
   "metadata": {},
   "outputs": [
    {
     "name": "stdout",
     "output_type": "stream",
     "text": [
      "['Olivia', 'Betty', 'ScamGov', 'ScamCo', 'BankOfAmerica', 'Chase', 'FirstFinancial', 'acc_olivia', 'acc_betty', 'acc_scamgov', 'Olivia_acc']\n",
      "[('Olivia', 'Olivia_acc'), ('Betty', 'acc_betty'), ('ScamGov', 'acc_scamgov')]\n"
     ]
    }
   ],
   "source": [
    "print(G.nodes)\n",
    "print(G.edges)"
   ]
  }
 ],
 "metadata": {
  "kernelspec": {
   "display_name": "base",
   "language": "python",
   "name": "python3"
  },
  "language_info": {
   "codemirror_mode": {
    "name": "ipython",
    "version": 3
   },
   "file_extension": ".py",
   "mimetype": "text/x-python",
   "name": "python",
   "nbconvert_exporter": "python",
   "pygments_lexer": "ipython3",
   "version": "3.13.2"
  }
 },
 "nbformat": 4,
 "nbformat_minor": 5
}
