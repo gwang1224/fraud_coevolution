{
 "cells": [
  {
   "cell_type": "code",
   "execution_count": 41,
   "id": "726526c7",
   "metadata": {},
   "outputs": [],
   "source": [
    "import fraud_env\n",
    "import llmplanner\n",
    "import pydantic_validator as pv"
   ]
  },
  {
   "cell_type": "code",
   "execution_count": 42,
   "id": "bf728b71",
   "metadata": {},
   "outputs": [
    {
     "name": "stdout",
     "output_type": "stream",
     "text": [
      "Successfully added node bankofamerica as a bank node.\n",
      "Successfully added node chase as a bank node.\n",
      "Successfully added node firstfinancial as a bank node.\n",
      "Successfully added node olivia as a individual node.\n",
      "Successfully added node betty as a individual node.\n",
      "Successfully added node scamgov as a fraudster node.\n",
      "Successfully added node scamco as a fraudster node.\n",
      "Successfully added node acc_olivia as a account node.\n",
      "Successfully added node acc_betty as a account node.\n",
      "Successfully added node acc_scamgov as a account node.\n",
      "Added ownership relationship between olivia -> acc_olivia\n",
      "Added ownership relationship between betty -> acc_betty\n",
      "Added ownership relationship between scamgov -> acc_scamgov\n"
     ]
    }
   ],
   "source": [
    "env = fraud_env.FraudEnv()\n",
    "\n",
    "# Add banks\n",
    "env.add_node_with_attribute(\"bankofamerica\", \"bank\")\n",
    "env.add_node_with_attribute(\"chase\", \"bank\")\n",
    "env.add_node_with_attribute(\"firstfinancial\", \"bank\")\n",
    "\n",
    "# Add individuals\n",
    "env.add_node_with_attribute(\"olivia\", \"individual\", {\"role\": \"victim\"})\n",
    "env.add_node_with_attribute(\"betty\", \"individual\", {\"role\": \"victim\"})\n",
    "\n",
    "# Add fraudsters\n",
    "env.add_node_with_attribute(\"scamgov\", \"fraudster\", {\"role\": \"fraudco\", \"status\": \"active\", \"description\": \"Impersonates gov for SID\"})\n",
    "env.add_node_with_attribute(\"scamco\", \"fraudster\", {\"role\": \"fraudco\", \"status\": \"active\", \"description\": \"Impersonates gov for SID\"})\n",
    "\n",
    "# Add accounts (using valid banks)\n",
    "env.add_node_with_attribute(\"acc_olivia\", \"account\", {\"owner\": \"Olivia\", \"bank\": \"BankOfAmerica\", \"balance\": 60000.00})\n",
    "env.add_node_with_attribute(\"acc_betty\", \"account\", {\"owner\": \"Betty\", \"bank\": \"Chase\", \"balance\": 4000.00})\n",
    "env.add_node_with_attribute(\"acc_scamgov\", \"account\", {\"owner\": \"ScamGov\", \"bank\": \"FirstFinancial\", \"balance\": 0.00})\n",
    "\n",
    "# Add ownership edges\n",
    "env.add_ownership_edge(\"olivia\", \"acc_olivia\")\n",
    "env.add_ownership_edge(\"betty\", \"acc_betty\")\n",
    "env.add_ownership_edge(\"scamgov\", \"acc_scamgov\")"
   ]
  },
  {
   "cell_type": "code",
   "execution_count": 43,
   "id": "ab33bbea",
   "metadata": {},
   "outputs": [
    {
     "name": "stdout",
     "output_type": "stream",
     "text": [
      "{'sequence': [\"action(scamgov, sim swap, olivia, call, switched olivia's phone number)\", \"action(olivia, phone number exposure, scamgov, sms, sent olivia's new phone number)\", \"action(scamgov, social engineering, bankofamerica, call, tricked bankofamerica into sending olivia's login credentials)\", \"action(bankofamerica, sensitive info disclosure, scamgov, email, sent olivia's login credentials to scamgov)\", 'transaction(acc_olivia, fast payment, acc_scamgov, 3000.00)']}\n"
     ]
    }
   ],
   "source": [
    "planner = llmplanner.LLMPlanner()\n",
    "seq = planner.generate_sequence()\n",
    "print(seq)"
   ]
  },
  {
   "cell_type": "code",
   "execution_count": 44,
   "id": "932e6d01",
   "metadata": {},
   "outputs": [
    {
     "name": "stdout",
     "output_type": "stream",
     "text": [
      "<class 'dict'>\n",
      "✅ Validation passed\n"
     ]
    }
   ],
   "source": [
    "print(type(seq))\n",
    "\n",
    "try:\n",
    "    T = pv.SequenceModel.model_validate(seq, context={\"entities\": {node[0] for node in env.get_nodes()}})\n",
    "    print(\"✅ Validation passed\")\n",
    "except Exception as e:\n",
    "    print(\"❌ Validation failed:\", e)"
   ]
  },
  {
   "cell_type": "code",
   "execution_count": 46,
   "id": "a308f6ea",
   "metadata": {},
   "outputs": [
    {
     "ename": "AttributeError",
     "evalue": "'FraudEnv' object has no attribute 'update_balance'",
     "output_type": "error",
     "traceback": [
      "\u001b[31m---------------------------------------------------------------------------\u001b[39m",
      "\u001b[31mAttributeError\u001b[39m                            Traceback (most recent call last)",
      "\u001b[36mCell\u001b[39m\u001b[36m \u001b[39m\u001b[32mIn[46]\u001b[39m\u001b[32m, line 1\u001b[39m\n\u001b[32m----> \u001b[39m\u001b[32m1\u001b[39m \u001b[43menv\u001b[49m\u001b[43m.\u001b[49m\u001b[43mupdate_balance\u001b[49m(\u001b[33m\"\u001b[39m\u001b[33macc_olivia\u001b[39m\u001b[33m\"\u001b[39m, \u001b[33m\"\u001b[39m\u001b[33macc_scamgov\u001b[39m\u001b[33m\"\u001b[39m, \u001b[32m1000.00\u001b[39m)\n\u001b[32m      2\u001b[39m \u001b[38;5;28mprint\u001b[39m(env.get_nodes())\n",
      "\u001b[31mAttributeError\u001b[39m: 'FraudEnv' object has no attribute 'update_balance'"
     ]
    }
   ],
   "source": [
    "env.update_balance(\"acc_olivia\", \"acc_scamgov\", 1000.00)\n",
    "print(env.get_nodes())"
   ]
  },
  {
   "cell_type": "code",
   "execution_count": null,
   "id": "ea3cf6ce",
   "metadata": {},
   "outputs": [],
   "source": []
  }
 ],
 "metadata": {
  "kernelspec": {
   "display_name": "base",
   "language": "python",
   "name": "python3"
  },
  "language_info": {
   "codemirror_mode": {
    "name": "ipython",
    "version": 3
   },
   "file_extension": ".py",
   "mimetype": "text/x-python",
   "name": "python",
   "nbconvert_exporter": "python",
   "pygments_lexer": "ipython3",
   "version": "3.13.2"
  }
 },
 "nbformat": 4,
 "nbformat_minor": 5
}
