{
 "cells": [
  {
   "cell_type": "code",
   "execution_count": null,
   "id": "75123055",
   "metadata": {},
   "outputs": [],
   "source": [
    "import networkx as nx"
   ]
  },
  {
   "cell_type": "markdown",
   "id": "88a9ae46",
   "metadata": {
    "vscode": {
     "languageId": "sql"
    }
   },
   "source": [
    "G = (V, E, A)\n",
    "\n",
    "V: Represents nodes (typed objects such as victim, fraudsters, bank, accounts)\n",
    "\n",
    "E: Directed edges (relationships between different nodes)\n",
    "\n",
    "A: Actions (events that mutate environment)\n",
    "\n",
    "- Action: Event in preparation for fraud, non financial\n",
    "    \n",
    "- Transactions: financial transaction between two accounts\n"
   ]
  },
  {
   "cell_type": "code",
   "execution_count": 26,
   "id": "410ef5eb",
   "metadata": {},
   "outputs": [],
   "source": [
    "#Set attribues for each node\n",
    "NODE_TEMPLATES = {\n",
    "    \"individual\": {\n",
    "        \"role\": None,\n",
    "    },\n",
    "    \"fraudster\": {\n",
    "        \"role\": None,\n",
    "        \"status\": \"active\",\n",
    "        \"description\": None,\n",
    "    },\n",
    "    \"bank\": {\n",
    "    },\n",
    "    \"account\": {\n",
    "        \"owner\": None,\n",
    "        \"bank\": None,\n",
    "        \"balance\": 0.0,\n",
    "        \"status\": \"active\",  # could be 'active', 'flagged', 'frozen', etc.\n",
    "        \"compromised\": False\n",
    "    }\n",
    "}"
   ]
  },
  {
   "cell_type": "code",
   "execution_count": 27,
   "id": "0104166e",
   "metadata": {},
   "outputs": [],
   "source": [
    "def add_node_with_attribute(G, node_id, node_type, custom_attrs=None):\n",
    "    try:\n",
    "        attr = NODE_TEMPLATES.get(node_type).copy()\n",
    "    except AttributeError:\n",
    "        raise ValueError(f\"Unknown node type: '{node_type}'\")\n",
    "\n",
    "    # if invalid attribute is given\n",
    "    invalid_attr = [i for i in custom_attrs if i not in attr]\n",
    "    if invalid_attr:\n",
    "        raise ValueError(f\"Invalid keys: {invalid_attr}\")\n",
    "    \n",
    "    if custom_attrs:\n",
    "        attr.update(custom_attrs)\n",
    "\n",
    "    G.add_node(node_id, **attr)\n",
    "    print(f\"Successfully added node {node_id} as a {node_type} node.\")\n",
    "\n"
   ]
  },
  {
   "cell_type": "code",
   "execution_count": 28,
   "id": "6e74b4b4",
   "metadata": {},
   "outputs": [
    {
     "name": "stdout",
     "output_type": "stream",
     "text": [
      "Successfully added node Olivia as a individual node.\n",
      "Successfully added node ScamGov as a fraudster node.\n",
      "Successfully added node HackerX as a individual node.\n",
      "Successfully added node BankZ as a bank node.\n",
      "Successfully added node Olivia_acc as a account node.\n",
      "Successfully added node HackerX_acc as a account node.\n"
     ]
    }
   ],
   "source": [
    "G = nx.DiGraph()\n",
    "\n",
    "# Add victim\n",
    "add_node_with_attribute(G, \"Olivia\", \"individual\", {\"role\": \"victim\"})\n",
    "\n",
    "# Fraduster co\n",
    "add_node_with_attribute(G, \"ScamGov\", \"fraudster\", {\n",
    "        \"role\": \"fraudco\",\n",
    "        \"status\": \"active\",\n",
    "        \"description\": \"Impersonates gov for SID\"\n",
    "})\n",
    "\n",
    "# Fraudster\n",
    "add_node_with_attribute(G, \"HackerX\", \"individual\", {\"role\": \"fraudster\"})\n",
    "\n",
    "# Bank\n",
    "add_node_with_attribute(G, \"BankZ\", \"bank\",{})\n",
    "\n",
    "# Olivia's account\n",
    "add_node_with_attribute(G, \"Olivia_acc\", \"account\", {\n",
    "    \"owner\": \"Olivia\",\n",
    "    \"bank\": \"BankZ\",\n",
    "    \"balance\": 60000.00\n",
    "})\n",
    "\n",
    "# HackerX Account\n",
    "add_node_with_attribute(G, \"HackerX_acc\", \"account\", {\n",
    "    \"owner\": \"HackerX\",\n",
    "    \"bank\": \"BankZ\",\n",
    "    \"balance\": 0\n",
    "})\n"
   ]
  },
  {
   "cell_type": "code",
   "execution_count": 29,
   "id": "a185f726",
   "metadata": {},
   "outputs": [],
   "source": [
    "G.add_edge(\"Olivia\", \"Olivia_acc\", rel=\"owns\")\n",
    "G.add_edge(\"HackerX\", \"HackerX_acc\", rel=\"owns\")"
   ]
  },
  {
   "cell_type": "code",
   "execution_count": 30,
   "id": "bced8e92",
   "metadata": {},
   "outputs": [
    {
     "name": "stdout",
     "output_type": "stream",
     "text": [
      "['Olivia', 'ScamGov', 'HackerX', 'BankZ', 'Olivia_acc', 'HackerX_acc']\n",
      "[('Olivia', 'Olivia_acc'), ('HackerX', 'HackerX_acc')]\n"
     ]
    }
   ],
   "source": [
    "print(G.nodes)\n",
    "print(G.edges)"
   ]
  }
 ],
 "metadata": {
  "kernelspec": {
   "display_name": "base",
   "language": "python",
   "name": "python3"
  },
  "language_info": {
   "codemirror_mode": {
    "name": "ipython",
    "version": 3
   },
   "file_extension": ".py",
   "mimetype": "text/x-python",
   "name": "python",
   "nbconvert_exporter": "python",
   "pygments_lexer": "ipython3",
   "version": "3.13.2"
  }
 },
 "nbformat": 4,
 "nbformat_minor": 5
}
