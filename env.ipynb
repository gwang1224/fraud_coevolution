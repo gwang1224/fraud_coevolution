{
 "cells": [
  {
   "cell_type": "code",
   "execution_count": null,
   "id": "75123055",
   "metadata": {},
   "outputs": [],
   "source": [
    "import networkx as nx\n",
    "import matplotlib.pyplot as plt"
   ]
  },
  {
   "cell_type": "markdown",
   "id": "88a9ae46",
   "metadata": {
    "vscode": {
     "languageId": "sql"
    }
   },
   "source": [
    "G = (V, E, A)\n",
    "\n",
    "V: Represents nodes (typed objects such as victim, fraudsters, bank, accounts)\n",
    "\n",
    "E: Directed edges (relationships between different nodes)\n",
    "\n",
    "A: Actions (events that mutate environment)\n",
    "\n",
    "- Action: Event in preparation for fraud, non financial\n",
    "    \n",
    "- Transactions: financial transaction between two accounts\n"
   ]
  },
  {
   "cell_type": "code",
   "execution_count": 13,
   "id": "410ef5eb",
   "metadata": {},
   "outputs": [],
   "source": [
    "#Set attribues for each node\n",
    "NODE_TEMPLATES = {\n",
    "    \"individual\": {\n",
    "        \"role\": None,\n",
    "    },\n",
    "    \"fraudster\": {\n",
    "        \"role\": None,\n",
    "        \"status\": \"active\",\n",
    "        \"description\": None,\n",
    "    },\n",
    "    \"bank\": {\n",
    "    },\n",
    "    \"account\": {\n",
    "        \"owner\": None,\n",
    "        \"bank\": None,\n",
    "        \"balance\": 0.0,\n",
    "        \"status\": \"active\",  # could be 'active', 'flagged', 'frozen', etc.\n",
    "        \"compromised\": False\n",
    "    }\n",
    "}"
   ]
  },
  {
   "cell_type": "code",
   "execution_count": 28,
   "id": "0104166e",
   "metadata": {},
   "outputs": [],
   "source": [
    "def add_node_with_attribute(G, node_id, node_type, custom_attrs=None):\n",
    "    try:\n",
    "        template = NODE_TEMPLATES.get(node_type).copy()\n",
    "    except AttributeError:\n",
    "        raise ValueError(f\"Unknown node type: '{node_type}'\")\n",
    "\n",
    "    invalid_attr = [i for i in custom_attrs if i not in template]\n",
    "    if invalid_attr:\n",
    "        raise ValueError(f\"Invalid keys: {invalid_attr}\")\n",
    "    \n",
    "    # if custom_attrs:\n",
    "    #     template.update(custom_attrs)\n",
    "    # print(template)\n",
    "\n",
    "\n",
    "add_node_with_attribute(G, \"Grace_acc\", \"account\", {\n",
    "    \"owner\": \"Grace\",\n",
    "    \"bank\": \"BankZ\",\n",
    "    \"balance\": 50.00\n",
    "})\n"
   ]
  },
  {
   "cell_type": "code",
   "execution_count": null,
   "id": "6e74b4b4",
   "metadata": {},
   "outputs": [],
   "source": []
  },
  {
   "cell_type": "code",
   "execution_count": 11,
   "id": "9eb2504e",
   "metadata": {},
   "outputs": [
    {
     "data": {
      "text/plain": [
       "{'day': 'Friday'}"
      ]
     },
     "execution_count": 11,
     "metadata": {},
     "output_type": "execute_result"
    }
   ],
   "source": [
    "G = nx.DiGraph()#\n",
    "G = nx.DiGraph(day=\"Friday\")\n",
    "G.graph\n",
    "\n",
    "# G.add_edge(1, 2)  # default edge data=1\n",
    "# G.add_edge(2, 3, weight=0.9)  # specify edge data\n"
   ]
  },
  {
   "cell_type": "code",
   "execution_count": null,
   "id": "59ce380c",
   "metadata": {},
   "outputs": [
    {
     "name": "stdout",
     "output_type": "stream",
     "text": [
      "Requirement already satisfied: matplotlib in /Users/gracewang/miniconda3/lib/python3.13/site-packages (3.10.6)\n",
      "Requirement already satisfied: contourpy>=1.0.1 in /Users/gracewang/miniconda3/lib/python3.13/site-packages (from matplotlib) (1.3.3)\n",
      "Requirement already satisfied: cycler>=0.10 in /Users/gracewang/miniconda3/lib/python3.13/site-packages (from matplotlib) (0.12.1)\n",
      "Requirement already satisfied: fonttools>=4.22.0 in /Users/gracewang/miniconda3/lib/python3.13/site-packages (from matplotlib) (4.60.0)\n",
      "Requirement already satisfied: kiwisolver>=1.3.1 in /Users/gracewang/miniconda3/lib/python3.13/site-packages (from matplotlib) (1.4.9)\n",
      "Requirement already satisfied: numpy>=1.23 in /Users/gracewang/miniconda3/lib/python3.13/site-packages (from matplotlib) (2.3.1)\n",
      "Requirement already satisfied: packaging>=20.0 in /Users/gracewang/miniconda3/lib/python3.13/site-packages (from matplotlib) (24.2)\n",
      "Requirement already satisfied: pillow>=8 in /Users/gracewang/miniconda3/lib/python3.13/site-packages (from matplotlib) (11.3.0)\n",
      "Requirement already satisfied: pyparsing>=2.3.1 in /Users/gracewang/miniconda3/lib/python3.13/site-packages (from matplotlib) (3.2.5)\n",
      "Requirement already satisfied: python-dateutil>=2.7 in /Users/gracewang/miniconda3/lib/python3.13/site-packages (from matplotlib) (2.9.0.post0)\n",
      "Requirement already satisfied: six>=1.5 in /Users/gracewang/miniconda3/lib/python3.13/site-packages (from python-dateutil>=2.7->matplotlib) (1.17.0)\n",
      "Note: you may need to restart the kernel to use updated packages.\n"
     ]
    },
    {
     "data": {
      "image/png": "[encoded data removed]",
      "text/plain": [
       "<Figure size 640x480 with 2 Axes>"
      ]
     },
     "metadata": {},
     "output_type": "display_data"
    }
   ],
   "source": [
    "%pip install matplotlib\n",
    "\n",
    "subax1 = plt.subplot(121)\n",
    "nx.draw(G)   # default spring_layout\n",
    "subax2 = plt.subplot(122)\n",
    "nx.draw(G, pos=nx.circular_layout(G), node_color='r', edge_color='b')"
   ]
  }
 ],
 "metadata": {
  "kernelspec": {
   "display_name": "base",
   "language": "python",
   "name": "python3"
  },
  "language_info": {
   "codemirror_mode": {
    "name": "ipython",
    "version": 3
   },
   "file_extension": ".py",
   "mimetype": "text/x-python",
   "name": "python",
   "nbconvert_exporter": "python",
   "pygments_lexer": "ipython3",
   "version": "3.13.2"
  }
 },
 "nbformat": 4,
 "nbformat_minor": 5
}
